{
  "cells": [
    {
      "cell_type": "markdown",
      "source": [
        "# Circlaridade medica Rede Neural e Random Forest"
      ],
      "metadata": {
        "id": "Y6aKt8XS4gJK"
      },
      "id": "Y6aKt8XS4gJK"
    },
    {
      "cell_type": "code",
      "execution_count": null,
      "id": "1090de5b-8a0f-4f89-8a72-de129a773a6b",
      "metadata": {
        "id": "1090de5b-8a0f-4f89-8a72-de129a773a6b"
      },
      "outputs": [],
      "source": [
        "import pandas as pd\n",
        "\n",
        "#Base que sera usada na classificação\n",
        "datasetEstudantes = pd.read_csv('base_caract.csv', sep=',')\n",
        "#Base que mantera todas as colunas para fazer as analises\n",
        "datasetMedicos = pd.read_csv('base_medicos.csv', sep=',')\n",
        "# 'co_uf_ies', 'dist', 'idh_uf_ies', 'dt_inicio_curso', 'lat_nasc', 'lon_nasc', 'lat_ies', 'lon_ies'"
      ]
    },
    {
      "cell_type": "code",
      "execution_count": null,
      "id": "893196a3-6435-4b99-b804-27e5aa6c0337",
      "metadata": {
        "id": "893196a3-6435-4b99-b804-27e5aa6c0337"
      },
      "outputs": [],
      "source": [
        "datasetEstudantes.head()"
      ]
    },
    {
      "cell_type": "code",
      "execution_count": null,
      "id": "208ef135-5866-413d-b386-8798fce7206e",
      "metadata": {
        "id": "208ef135-5866-413d-b386-8798fce7206e"
      },
      "outputs": [],
      "source": [
        "datasetMedicos.head()"
      ]
    },
    {
      "cell_type": "code",
      "execution_count": null,
      "id": "75616ca8-dee7-42ae-8fab-f1e8e9cdee17",
      "metadata": {
        "id": "75616ca8-dee7-42ae-8fab-f1e8e9cdee17"
      },
      "outputs": [],
      "source": [
        "import pandas as pd\n",
        "from sklearn.cluster import KMeans\n",
        "\n",
        "# Carregando o dataset\n",
        "datasetEstudantes = pd.read_csv('base_caract.csv', sep=',')\n",
        "\n",
        "# K-means clustering para discretização\n",
        "kmeans = KMeans(n_clusters=10, random_state=42)\n",
        "datasetEstudantes['idade_bin'] = kmeans.fit_predict(datasetEstudantes[['idade']])\n",
        "\n",
        "# Mapeamento das idades originais para as idades discretizadas\n",
        "idade_mapping = datasetEstudantes[['idade', 'idade_bin']].drop_duplicates(subset='idade').sort_values(by='idade')\n",
        "\n",
        "print(\"Mapeamento das idades originais para as idades discretizadas:\")\n",
        "print(idade_mapping)\n"
      ]
    },
    {
      "cell_type": "code",
      "execution_count": null,
      "id": "1e6500b4-9ea7-4247-9b37-45b4629efdda",
      "metadata": {
        "id": "1e6500b4-9ea7-4247-9b37-45b4629efdda"
      },
      "outputs": [],
      "source": [
        "import matplotlib.pyplot as plt\n",
        "\n",
        "# Contar as instâncias de cada classe\n",
        "class_counts = datasetEstudantes['co_uf_ies'].value_counts()\n",
        "\n",
        "# Visualização com gráfico de barras\n",
        "class_counts.plot(kind='bar')\n",
        "plt.xlabel('Classes')\n",
        "plt.ylabel('Número de Instâncias')\n",
        "plt.title('Distribuição das Classes')\n",
        "plt.savefig('distribuicaoClasses.png')\n",
        "plt.show()\n",
        "\n",
        "# Calcular e mostrar a proporção de cada classe\n",
        "class_proportions = class_counts / class_counts.sum()\n",
        "print(\"Proporção de cada classe:\")\n",
        "print(class_proportions)\n"
      ]
    },
    {
      "cell_type": "code",
      "execution_count": null,
      "id": "1c30c9dc-49d6-47f2-b0d0-97a5cd71e2ea",
      "metadata": {
        "scrolled": true,
        "id": "1c30c9dc-49d6-47f2-b0d0-97a5cd71e2ea"
      },
      "outputs": [],
      "source": [
        "datasetMedicos.head()"
      ]
    },
    {
      "cell_type": "code",
      "execution_count": null,
      "id": "314589f3-4223-4815-b3fe-00d6ec012377",
      "metadata": {
        "id": "314589f3-4223-4815-b3fe-00d6ec012377"
      },
      "outputs": [],
      "source": [
        "import csv\n",
        "import numpy as np\n",
        "import category_encoders as ce\n",
        "from datetime import datetime\n",
        "\n",
        "#Base que sera usada na classificação\n",
        "dataset = pd.read_csv('base_caract.csv', sep=',')\n",
        "#Base que mantera todas as colunas para fazer as analises\n",
        "dataset_aux = pd.read_csv('base_caract.csv', sep=',')\n",
        "\n",
        "dataset['idade'] = datasetEstudantes['idade_bin']\n",
        "\n",
        "#codificando os codigos dos estados\n",
        "data = dataset['co_uf_ies']\n",
        "encoder_ies=ce.OneHotEncoder(cols=['co_uf_ies'])\n",
        "classes = encoder_ies.fit_transform(data).values\n",
        "\n",
        "dataset.pop('co_uf_ies')\n",
        "dist = dataset.pop('dist')\n",
        "idh_uf_ies = dataset.pop('idh_uf_ies')\n",
        "dt_inicio_curso = dataset.pop('dt_inicio_curso')\n",
        "lat_nasc = dataset.pop('lat_nasc')\n",
        "lon_nasc = dataset.pop('lon_nasc')\n",
        "lat_ies = dataset.pop('lat_ies')\n",
        "lon_ies = dataset.pop('lon_ies')\n",
        "idh_uf_nasc = dataset.pop('idh_uf_nasc')\n",
        "\n",
        "co_uf_nasc = dataset['co_uf_nasc']\n",
        "encoder=ce.OneHotEncoder(cols=['co_uf_nasc'])\n",
        "#dataset = encoder.fit_transform(dataset).values"
      ]
    },
    {
      "cell_type": "code",
      "execution_count": null,
      "id": "264ebef3-3af9-43e3-98fc-d9fa4c75f67f",
      "metadata": {
        "id": "264ebef3-3af9-43e3-98fc-d9fa4c75f67f"
      },
      "outputs": [],
      "source": [
        "dataset = encoder.fit_transform(dataset).values"
      ]
    },
    {
      "cell_type": "code",
      "execution_count": null,
      "id": "75b00325-1538-42f8-90e7-722ece954adf",
      "metadata": {
        "id": "75b00325-1538-42f8-90e7-722ece954adf"
      },
      "outputs": [],
      "source": [
        "# cria o arquivo\n",
        "open_doc = open('teste.csv', 'w', newline='', encoding='utf-8')\n",
        "# cria o objeto de gravação\n",
        "w = csv.writer(open_doc)\n",
        "w.writerow([\"cpf\", \"idade\", \"sexo\", \"raça\",\n",
        "            \"co_uf_nasc_enc\", \"co_uf_nasc_enc\",\n",
        "            \"co_uf_nasc_enc\", \"co_uf_nasc_enc\",\n",
        "            \"co_uf_nasc_enc\", \"co_uf_nasc_enc\",\n",
        "            \"co_uf_nasc_enc\", \"co_uf_nasc_enc\",\n",
        "            \"co_uf_nasc_enc\", \"co_uf_nasc_enc\",\n",
        "            \"co_uf_nasc_enc\", \"co_uf_nasc_enc\",\n",
        "            \"co_uf_nasc_enc\", \"co_uf_nasc_enc\",\n",
        "            \"co_uf_nasc_enc\", \"co_uf_nasc_enc\",\n",
        "            \"co_uf_nasc_enc\", \"co_uf_nasc_enc\",\n",
        "            \"co_uf_nasc_enc\", \"co_uf_nasc_enc\",\n",
        "            \"co_uf_nasc_enc\", \"co_uf_nasc_enc\",\n",
        "            \"co_uf_nasc_enc\", \"co_uf_nasc_enc\",\n",
        "            \"co_uf_nasc_enc\", \"co_uf_nasc_enc\",\n",
        "            \"co_uf_nasc_enc\", \"cod_uf\"])\n",
        "\n",
        "for l in dataset[:5]:\n",
        "    w.writerow(list(map(str, l)))\n",
        "dataset_teste = pd.read_csv('teste.csv', sep=',')\n",
        "dataset_teste.head()"
      ]
    },
    {
      "cell_type": "code",
      "execution_count": null,
      "id": "2d9f62fe-68a6-4e49-b975-c289b9ccacd9",
      "metadata": {
        "id": "2d9f62fe-68a6-4e49-b975-c289b9ccacd9"
      },
      "outputs": [],
      "source": [
        "dataset_teste.iloc[:, [*range(10)] + [-2, -1]]"
      ]
    },
    {
      "cell_type": "markdown",
      "id": "5d1d2172-cf2a-4c38-a912-c024340271f0",
      "metadata": {
        "id": "5d1d2172-cf2a-4c38-a912-c024340271f0"
      },
      "source": [
        "Rede neural com K-Fold e classificaation report"
      ]
    },
    {
      "cell_type": "code",
      "execution_count": null,
      "id": "a3678020-ef91-4426-aec3-c31e6eb4ac4a",
      "metadata": {
        "id": "a3678020-ef91-4426-aec3-c31e6eb4ac4a"
      },
      "outputs": [],
      "source": [
        "import matplotlib.pyplot as plt\n",
        "import pandas as pd\n",
        "import numpy as np\n",
        "import tensorflow as tf\n",
        "from sklearn.preprocessing import LabelEncoder\n",
        "from sklearn.metrics import accuracy_score, precision_score, recall_score, f1_score, classification_report\n",
        "from sklearn.model_selection import KFold\n",
        "from category_encoders import OneHotEncoder\n",
        "\n",
        "# Base que será usada na classificação\n",
        "dataset = pd.read_csv('base_caract.csv', sep=',')\n",
        "# Base que manterá todas as colunas para fazer as análises\n",
        "dataset_aux = pd.read_csv('base_caract.csv', sep=',')\n",
        "\n",
        "# dataset['idade'] = datasetEstudantes['idade_bin']\n",
        "\n",
        "# Codificando os códigos dos estados para rótulos\n",
        "encoder_ies = OneHotEncoder(cols=['co_uf_ies'])\n",
        "classes = encoder_ies.fit_transform(dataset[['co_uf_ies']])\n",
        "\n",
        "# Removendo colunas que não serão usadas\n",
        "dataset.drop(columns=['cpf', 'idade', 'sexo', 'raca', 'dt_inicio_curso'], inplace=True)\n",
        "\n",
        "# Codificando as características dos estados de nascimento\n",
        "encoder = OneHotEncoder(cols=['co_uf_nasc'])\n",
        "dataset_encoded = encoder.fit_transform(dataset)\n",
        "\n",
        "# Convertendo para numpy array\n",
        "X = dataset_encoded.values\n",
        "y = classes.values.argmax(axis=1)  # Convertendo one-hot encoded labels para índices\n",
        "\n",
        "# Verificando se os dados foram processados corretamente\n",
        "print(\"Shape de X:\", X.shape)\n",
        "print(\"Shape de y:\", y.shape)\n",
        "print(\"Primeiros 5 rótulos:\", y[:5])\n",
        "\n",
        "# Normalizando os dados\n",
        "X = (X - X.mean(axis=0)) / X.std(axis=0)\n",
        "\n",
        "# Obtendo o número de classes\n",
        "num_classes = classes.shape[1]\n",
        "\n",
        "# K-Fold Cross Validation\n",
        "kf = KFold(n_splits=5)\n",
        "best_accuracy = 0\n",
        "best_fold = None\n",
        "fold_index = 0\n",
        "\n",
        "for train_index, test_index in kf.split(X):\n",
        "    fold_index += 1\n",
        "    X_train, X_test = X[train_index], X[test_index]\n",
        "    y_train, y_test = y[train_index], y[test_index]\n",
        "\n",
        "    # Convertendo os dados para tensores\n",
        "    X_train_tensor = tf.convert_to_tensor(X_train, dtype=tf.float32)\n",
        "    y_train_tensor = tf.convert_to_tensor(y_train, dtype=tf.int32)\n",
        "    X_test_tensor = tf.convert_to_tensor(X_test, dtype=tf.float32)\n",
        "    y_test_tensor = tf.convert_to_tensor(y_test, dtype=tf.int32)\n",
        "\n",
        "    # Construindo o modelo da rede neural\n",
        "    model = tf.keras.Sequential([\n",
        "        tf.keras.layers.Dense(64, activation='relu', input_shape=(X_train.shape[1],)),\n",
        "        tf.keras.layers.Dense(128, activation='relu'),  # Camada oculta adicional 1\n",
        "        tf.keras.layers.Dense(256, activation='relu'),  # Camada oculta adicional 2\n",
        "        tf.keras.layers.Dense(num_classes, activation='softmax')\n",
        "    ])\n",
        "\n",
        "    # Compilando o modelo\n",
        "    model.compile(optimizer='adam',\n",
        "                  loss='sparse_categorical_crossentropy',\n",
        "                  metrics=['accuracy'])\n",
        "\n",
        "    # Treinando o modelo\n",
        "    model.fit(X_train_tensor, y_train_tensor, epochs=10, batch_size=32, validation_split=0.2, verbose=2)\n",
        "\n",
        "    # Avaliando o desempenho no conjunto de teste\n",
        "    y_pred_probs = model.predict(X_test_tensor)\n",
        "    y_pred = tf.argmax(y_pred_probs, axis=1).numpy()  # Convertendo para array NumPy\n",
        "\n",
        "    accuracy = accuracy_score(y_test, y_pred)\n",
        "    precision = precision_score(y_test, y_pred, average='weighted')\n",
        "    recall = recall_score(y_test, y_pred, average='weighted')\n",
        "    f1 = f1_score(y_test, y_pred, average='weighted')\n",
        "    report = classification_report(y_test, y_pred, target_names=[f'class_{i}' for i in range(num_classes)])\n",
        "\n",
        "    train_percentage = len(train_index) / len(X) * 100\n",
        "    test_percentage = len(test_index) / len(X) * 100\n",
        "\n",
        "    print(f'Fold {fold_index}:')\n",
        "    print('Acurácia: {:.2f}%'.format(accuracy * 100))\n",
        "    print('Precisão: {:.2f}%'.format(precision * 100))\n",
        "    print('Recall: {:.2f}%'.format(recall * 100))\n",
        "    print('F1-Score: {:.2f}%'.format(f1 * 100))\n",
        "    print('Porcentagem Treino: {:.2f}%'.format(train_percentage))\n",
        "    print('Porcentagem Teste: {:.2f}%'.format(test_percentage))\n",
        "    print('Relatório de Classificação:')\n",
        "    print(report)\n",
        "    print()\n",
        "\n",
        "    if accuracy > best_accuracy:\n",
        "        best_accuracy = accuracy\n",
        "        best_fold = (train_index, test_index)\n",
        "\n",
        "print('Melhor Fold:')\n",
        "print(f'Índices de Treino: {best_fold[0]}')\n",
        "print(f'Índices de Teste: {best_fold[1]}')\n",
        "print('Melhor Acurácia: {:.2f}%'.format(best_accuracy * 100))\n"
      ]
    },
    {
      "cell_type": "markdown",
      "id": "4c5dffa3-8efa-498d-a29c-799a444edceb",
      "metadata": {
        "id": "4c5dffa3-8efa-498d-a29c-799a444edceb"
      },
      "source": [
        "Random Forest com Grid Search, K Cross Validation e Classsification report"
      ]
    },
    {
      "cell_type": "code",
      "execution_count": null,
      "id": "5c4112ed-22f8-4636-8fd1-aab8c176770b",
      "metadata": {
        "id": "5c4112ed-22f8-4636-8fd1-aab8c176770b"
      },
      "outputs": [],
      "source": [
        "import pandas as pd\n",
        "import numpy as np\n",
        "from sklearn.model_selection import KFold, GridSearchCV\n",
        "from sklearn.metrics import accuracy_score, precision_score, recall_score, f1_score, classification_report\n",
        "from sklearn.ensemble import RandomForestClassifier\n",
        "\n",
        "# Carregar o conjunto de dados\n",
        "dataset = pd.read_csv('base_caract.csv', sep=',')\n",
        "\n",
        "# Mapear as idades\n",
        "dataset['idade'] = datasetEstudantes['idade_bin']\n",
        "\n",
        "# Remover colunas não utilizadas\n",
        "dataset.drop(columns=['cpf', 'idade', 'sexo', 'raca', 'dt_inicio_curso'], inplace=True)\n",
        "\n",
        "# Dividir o conjunto de dados em features e classes\n",
        "X = dataset.drop(columns=['co_uf_ies']).values  # Features (tudo exceto a coluna alvo)\n",
        "y = dataset['co_uf_ies'].values  # Target (a coluna que queremos prever)\n",
        "\n",
        "# Configurar os parâmetros do K-Fold Cross Validation\n",
        "num_splits = 5\n",
        "kf = KFold(n_splits=num_splits, shuffle=True, random_state=42)\n",
        "\n",
        "# Definir os parâmetros para o Grid Search\n",
        "param_grid = {\n",
        "    'n_estimators': [100, 200, 300],\n",
        "    'max_depth': [10, 20, 30]\n",
        "}\n",
        "\n",
        "# Inicializar o modelo Random Forest\n",
        "model_rand = RandomForestClassifier()\n",
        "\n",
        "# Inicializar o Grid Search\n",
        "grid_search = GridSearchCV(estimator=model_rand, param_grid=param_grid, cv=kf, scoring='accuracy')\n",
        "\n",
        "# Executar o Grid Search\n",
        "grid_search.fit(X, y)\n",
        "\n",
        "# Imprimir os melhores parâmetros encontrados\n",
        "print(\"Melhores Parâmetros:\")\n",
        "print(grid_search.best_params_)\n",
        "\n",
        "# Imprimir a melhor acurácia encontrada\n",
        "print(\"Melhor Acurácia: {:.2f}%\".format(grid_search.best_score_ * 100))\n"
      ]
    },
    {
      "cell_type": "code",
      "execution_count": null,
      "id": "4b8dba58-f1cd-47c0-acec-2624c0c57f1c",
      "metadata": {
        "id": "4b8dba58-f1cd-47c0-acec-2624c0c57f1c"
      },
      "outputs": [],
      "source": [
        "plt.scatter(dist, dataset_aux['idade'], label=dataset_aux['idade'])\n",
        "plt.xlabel('Distancia')\n",
        "plt.ylabel('Idade')\n",
        "plt.title('Relação entre idade e distância')\n",
        "plt.figure(figsize=(20,10))\n",
        "plt.show"
      ]
    },
    {
      "cell_type": "code",
      "execution_count": null,
      "id": "c3e7b104-195b-4692-b367-88423d8be73d",
      "metadata": {
        "id": "c3e7b104-195b-4692-b367-88423d8be73d"
      },
      "outputs": [],
      "source": [
        "import folium\n",
        "from folium.plugins import HeatMap\n",
        "from datetime import date\n",
        "import pandas as pd\n",
        "\n",
        "# Ler os dados\n",
        "inep_df = pd.read_csv('inep_clean.csv', index_col=0)\n",
        "inep_df['dt_inicio_curso'] = pd.to_datetime(inep_df['dt_inicio_curso'])\n",
        "date_from = pd.Timestamp(date(2014,1,1))\n",
        "date_to = pd.Timestamp(date(2014,4,1))\n",
        "\n",
        "# Filtrar os dados para o período desejado\n",
        "ano_df = inep_df[(inep_df.dt_inicio_curso >= date_from) & (inep_df.dt_inicio_curso <= date_to)].copy()\n",
        "\n",
        "# Criar um mapa folium\n",
        "m = folium.Map(location=[-15.788, -47.879], zoom_start=4)\n",
        "\n",
        "# Adicionar pontos de origem dos alunos como um mapa de calor\n",
        "heat_data = [[row['lat_ies'], row['lon_ies']] for index, row in ano_df.iterrows()]\n",
        "HeatMap(heat_data).add_to(m)\n",
        "\n",
        "# Salvar o mapa como um arquivo HTML\n",
        "m.save('heatmapIesEstudantes.html')\n"
      ]
    },
    {
      "cell_type": "code",
      "execution_count": null,
      "id": "740958a0-f27b-4cc6-82ba-64c8b173657e",
      "metadata": {
        "id": "740958a0-f27b-4cc6-82ba-64c8b173657e"
      },
      "outputs": [],
      "source": [
        "import folium\n",
        "from folium.plugins import HeatMap\n",
        "from datetime import date\n",
        "import pandas as pd\n",
        "\n",
        "# Ler os dados\n",
        "inep_df = pd.read_csv('inep_clean.csv', index_col=0)\n",
        "inep_df['dt_inicio_curso'] = pd.to_datetime(inep_df['dt_inicio_curso'])\n",
        "date_from = pd.Timestamp(date(2008, 1, 1))\n",
        "date_to = pd.Timestamp(date(2008, 12, 31))\n",
        "\n",
        "# Filtrar os dados para o período desejado\n",
        "ano_df = inep_df[(inep_df.dt_inicio_curso >= date_from) & (inep_df.dt_inicio_curso <= date_to)].copy()\n",
        "\n",
        "# Criar um mapa folium\n",
        "m = folium.Map(location=[-15.788, -47.879], zoom_start=4)\n",
        "\n",
        "# Adicionar pontos de origem dos alunos como um mapa de calor\n",
        "heat_data = [[row['lat_ies'], row['lon_ies']] for index, row in ano_df.iterrows()]\n",
        "HeatMap(heat_data).add_to(m)\n",
        "\n",
        "# Salvar o mapa como um arquivo HTML\n",
        "m.save('heatmapIes2008Estudantes.html')\n"
      ]
    },
    {
      "cell_type": "code",
      "execution_count": null,
      "id": "ac283bef-c754-46ad-a152-33f40bb1c5e0",
      "metadata": {
        "id": "ac283bef-c754-46ad-a152-33f40bb1c5e0"
      },
      "outputs": [],
      "source": [
        "import folium\n",
        "from folium.plugins import HeatMap\n",
        "from datetime import date\n",
        "import pandas as pd\n",
        "\n",
        "# Ler os dados\n",
        "inep_df = pd.read_csv('inep_clean.csv', index_col=0)\n",
        "inep_df['dt_inicio_curso'] = pd.to_datetime(inep_df['dt_inicio_curso'])\n",
        "date_from = pd.Timestamp(date(2014,1,1))\n",
        "date_to = pd.Timestamp(date(2014,4,1))\n",
        "\n",
        "# Filtrar os dados para o período desejado\n",
        "ano_df = inep_df[(inep_df.dt_inicio_curso >= date_from) & (inep_df.dt_inicio_curso <= date_to)].copy()\n",
        "\n",
        "# Criar um mapa folium\n",
        "m = folium.Map(location=[-15.788, -47.879], zoom_start=4)\n",
        "\n",
        "# Adicionar pontos de origem dos alunos como um mapa de calor\n",
        "heat_data = [[row['lat_ies'], row['lon_ies']] for index, row in ano_df.iterrows()]\n",
        "HeatMap(heat_data).add_to(m)\n",
        "\n",
        "# Salvar o mapa como um arquivo HTML\n",
        "m.save('heatmapIesEstudantes.html')\n"
      ]
    }
  ],
  "metadata": {
    "kernelspec": {
      "display_name": "Python 3",
      "name": "python3"
    },
    "language_info": {
      "codemirror_mode": {
        "name": "ipython",
        "version": 3
      },
      "file_extension": ".py",
      "mimetype": "text/x-python",
      "name": "python",
      "nbconvert_exporter": "python",
      "pygments_lexer": "ipython3",
      "version": "3.8.10"
    },
    "colab": {
      "provenance": [],
      "gpuType": "V28"
    },
    "accelerator": "TPU"
  },
  "nbformat": 4,
  "nbformat_minor": 5
}